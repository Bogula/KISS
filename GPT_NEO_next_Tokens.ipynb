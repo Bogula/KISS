{
  "nbformat": 4,
  "nbformat_minor": 0,
  "metadata": {
    "colab": {
      "name": "GPT NEO next Tokens",
      "provenance": [],
      "collapsed_sections": [],
      "authorship_tag": "ABX9TyN0P24a6XblNajm11QxIYOT",
      "include_colab_link": true
    },
    "kernelspec": {
      "name": "python3",
      "display_name": "Python 3"
    }
  },
  "cells": [
    {
      "cell_type": "markdown",
      "metadata": {
        "id": "view-in-github",
        "colab_type": "text"
      },
      "source": [
        "<a href=\"https://colab.research.google.com/github/Bogula/KISS/blob/main/GPT_NEO_next_Tokens.ipynb\" target=\"_parent\"><img src=\"https://colab.research.google.com/assets/colab-badge.svg\" alt=\"Open In Colab\"/></a>"
      ]
    },
    {
      "cell_type": "markdown",
      "metadata": {
        "id": "X1NECG-3956w"
      },
      "source": [
        "**Next** Textergänzung mit GPT-NEO\n",
        "\n",
        "\n"
      ]
    },
    {
      "cell_type": "code",
      "metadata": {
        "id": "cYlJbm-R50eE"
      },
      "source": [
        "#Transformer Library Installieren\n",
        "!pip install transformers"
      ],
      "execution_count": null,
      "outputs": []
    },
    {
      "cell_type": "code",
      "metadata": {
        "id": "LvreB48IkX1f"
      },
      "source": [
        "from transformers import pipeline\n",
        "generator = pipeline('text-generation', model='EleutherAI/gpt-neo-1.3B')\n",
        "generator(\"EleutherAI has\", do_sample=True, min_length=50)"
      ],
      "execution_count": null,
      "outputs": []
    },
    {
      "cell_type": "code",
      "metadata": {
        "id": "B33Ys3I8oAiM"
      },
      "source": [
        "generator(\"Blockchain technology is\", do_sample=True, min_length=50)"
      ],
      "execution_count": null,
      "outputs": []
    },
    {
      "cell_type": "code",
      "metadata": {
        "id": "XDU2vlikoTfc"
      },
      "source": [
        "generator(\"After his Star Trek career Brent Spiner\", do_sample=True, min_length=50)"
      ],
      "execution_count": null,
      "outputs": []
    },
    {
      "cell_type": "code",
      "metadata": {
        "id": "89AYEGaA2u0v"
      },
      "source": [
        "generator(\"Dogs are animals that\", do_sample=True, min_length=50, num_beams=4,  early_stopping=False)"
      ],
      "execution_count": null,
      "outputs": []
    }
  ]
}