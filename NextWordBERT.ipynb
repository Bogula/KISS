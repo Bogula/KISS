{
  "nbformat": 4,
  "nbformat_minor": 0,
  "metadata": {
    "colab": {
      "name": "NextWordBERT",
      "provenance": [],
      "collapsed_sections": [],
      "authorship_tag": "ABX9TyON+h4rgpdGSOeFk4zPrSVo",
      "include_colab_link": true
    },
    "kernelspec": {
      "name": "python3",
      "display_name": "Python 3"
    }
  },
  "cells": [
    {
      "cell_type": "markdown",
      "metadata": {
        "id": "view-in-github",
        "colab_type": "text"
      },
      "source": [
        "<a href=\"https://colab.research.google.com/github/Bogula/KISS/blob/main/NextWordBERT.ipynb\" target=\"_parent\"><img src=\"https://colab.research.google.com/assets/colab-badge.svg\" alt=\"Open In Colab\"/></a>"
      ]
    },
    {
      "cell_type": "markdown",
      "metadata": {
        "id": "X1NECG-3956w"
      },
      "source": [
        "Next Word Prediction with BERT\n",
        "https://medium.com/jovianml/next-word-prediction-using-bert-388bf48f38f\n",
        "\n"
      ]
    },
    {
      "cell_type": "code",
      "metadata": {
        "id": "cYlJbm-R50eE"
      },
      "source": [
        "!pip install transformers"
      ],
      "execution_count": null,
      "outputs": []
    },
    {
      "cell_type": "code",
      "metadata": {
        "id": "my9Ym-is5rpD"
      },
      "source": [
        "import os\n",
        "import torch\n",
        "import string\n",
        "\n",
        "from transformers import BertTokenizer, BertForMaskedLM\n"
      ],
      "execution_count": null,
      "outputs": []
    },
    {
      "cell_type": "code",
      "metadata": {
        "id": "p6-Emp_F4foF"
      },
      "source": [
        "def load_model(model_name):\n",
        "  try:\n",
        "    if model_name.lower() == \"bert\":\n",
        "      bert_tokenizer = BertTokenizer.from_pretrained('bert-base-uncased')\n",
        "      bert_model = BertForMaskedLM.from_pretrained('bert-base-uncased').eval()\n",
        "      return bert_tokenizer,bert_model\n",
        "  except Exception as e:\n",
        "    pass"
      ],
      "execution_count": null,
      "outputs": []
    },
    {
      "cell_type": "code",
      "metadata": {
        "id": "gwXJAapD6e1S"
      },
      "source": [
        ""
      ],
      "execution_count": null,
      "outputs": []
    },
    {
      "cell_type": "code",
      "metadata": {
        "id": "clvhCO6v5p2M"
      },
      "source": [
        "def decode(tokenizer, pred_idx, top_clean):\n",
        "  ignore_tokens = string.punctuation + '[PAD]'\n",
        "  tokens = []\n",
        "  for w in pred_idx:\n",
        "    token = ''.join(tokenizer.decode(w).split())\n",
        "    if token not in ignore_tokens:\n",
        "      tokens.append(token.replace('##', ''))\n",
        "  return '\\n'.join(tokens[:top_clean])"
      ],
      "execution_count": null,
      "outputs": []
    },
    {
      "cell_type": "code",
      "metadata": {
        "id": "RaHgnStH6f-w"
      },
      "source": [
        "def encode(tokenizer, text_sentence, add_special_tokens=True):\n",
        "  text_sentence = text_sentence.replace('<mask>', tokenizer.mask_token)\n",
        "    # if <mask> is the last token, append a \".\" so that models dont predict punctuation.\n",
        "  if tokenizer.mask_token == text_sentence.split()[-1]:\n",
        "    text_sentence += ' .'\n",
        "\n",
        "    input_ids = torch.tensor([tokenizer.encode(text_sentence, add_special_tokens=add_special_tokens)])\n",
        "    mask_idx = torch.where(input_ids == tokenizer.mask_token_id)[1].tolist()[0]\n",
        "  return input_ids, mask_idx\n"
      ],
      "execution_count": null,
      "outputs": []
    },
    {
      "cell_type": "code",
      "metadata": {
        "id": "3q6LtXpm6kpK"
      },
      "source": [
        "def get_all_predictions(text_sentence, top_clean=5):\n",
        "    # ========================= BERT =================================\n",
        "  input_ids, mask_idx = encode(bert_tokenizer, text_sentence)\n",
        " \n",
        "  with torch.no_grad():\n",
        "    predict = bert_model(input_ids)[0]\n",
        "  bert = decode(bert_tokenizer, predict[0, mask_idx, :].topk(top_k).indices.tolist(), top_clean)\n",
        "  return {'bert': bert}\n",
        "\n"
      ],
      "execution_count": null,
      "outputs": []
    },
    {
      "cell_type": "code",
      "metadata": {
        "id": "0arXLysk6ont"
      },
      "source": [
        "def get_prediction_eos(input_text):\n",
        "  try:\n",
        "    input_text += ' <mask>'\n",
        "    res = get_all_predictions(input_text, top_clean=int(top_k))\n",
        "    return res\n",
        "  except Exception as error:\n",
        "    pass\n"
      ],
      "execution_count": null,
      "outputs": []
    },
    {
      "cell_type": "code",
      "metadata": {
        "id": "NURzm7s88Rvf"
      },
      "source": [
        "print(\"Next Word Prediction with Pytorch\")\n",
        " \n",
        "print(\"Prediction next 5\")\n",
        "top_k=5\n",
        "print(top_k)\n",
        "model_name = \"BERT\"\n",
        "\n",
        "bert_tokenizer, bert_model  = load_model(model_name) \n"
      ],
      "execution_count": null,
      "outputs": []
    },
    {
      "cell_type": "code",
      "metadata": {
        "id": "JMsnmftk8h_q"
      },
      "source": [
        "input_text = \"the child's toys in the\"\n",
        " \n",
        "res = get_prediction_eos(input_text)\n",
        "\n",
        "answer = []\n",
        "print(res['bert'].split(\"\\n\"))\n",
        "for i in res['bert'].split(\"\\n\"):\n",
        "  answer.append(i)\n",
        "answer_as_string = \"    \".join(answer)"
      ],
      "execution_count": null,
      "outputs": []
    }
  ]
}