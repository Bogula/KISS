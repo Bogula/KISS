{
  "cells": [
    {
      "cell_type": "markdown",
      "metadata": {
        "id": "U76Obyy7f29R"
      },
      "source": [
        "https://realpython.com/linear-regression-in-python/"
      ]
    },
    {
      "cell_type": "code",
      "execution_count": 1,
      "metadata": {
        "id": "N5607XI9f29T"
      },
      "outputs": [],
      "source": [
        "import numpy as np\n",
        "from sklearn.linear_model import LinearRegression"
      ]
    },
    {
      "cell_type": "code",
      "execution_count": 2,
      "metadata": {
        "id": "a1L5pAZAf29U"
      },
      "outputs": [],
      "source": [
        "x = np.array([3,6,9,15,18,21,3,9,18])\n",
        "x2 = x.reshape((-1, 1))\n",
        "\n",
        "y = np.array([400,350,310,200,175,150,370,280,199])"
      ]
    },
    {
      "cell_type": "code",
      "execution_count": 3,
      "metadata": {
        "id": "LKuSzVgTf29U",
        "outputId": "555c9141-502e-416c-b086-1798537dc9dc",
        "colab": {
          "base_uri": "https://localhost:8080/"
        }
      },
      "outputs": [
        {
          "output_type": "execute_result",
          "data": {
            "text/plain": [
              "array([[ 3],\n",
              "       [ 6],\n",
              "       [ 9],\n",
              "       [15],\n",
              "       [18],\n",
              "       [21],\n",
              "       [ 3],\n",
              "       [ 9],\n",
              "       [18]])"
            ]
          },
          "metadata": {},
          "execution_count": 3
        }
      ],
      "source": [
        "x2\n",
        "\n"
      ]
    },
    {
      "cell_type": "code",
      "execution_count": 4,
      "metadata": {
        "id": "81bmiFf3f29V"
      },
      "outputs": [],
      "source": [
        "model = LinearRegression()"
      ]
    },
    {
      "cell_type": "code",
      "execution_count": 5,
      "metadata": {
        "id": "gWjtpN2qf29V",
        "outputId": "541813f2-1d2c-46b1-ea91-a868ea4842cb",
        "colab": {
          "base_uri": "https://localhost:8080/"
        }
      },
      "outputs": [
        {
          "output_type": "execute_result",
          "data": {
            "text/plain": [
              "LinearRegression()"
            ]
          },
          "metadata": {},
          "execution_count": 5
        }
      ],
      "source": [
        "model.fit(x2, y)"
      ]
    },
    {
      "cell_type": "code",
      "execution_count": 6,
      "metadata": {
        "id": "4Ck7EeXvf29V"
      },
      "outputs": [],
      "source": [
        "r_sq = model.score(x2, y)"
      ]
    },
    {
      "cell_type": "code",
      "execution_count": 7,
      "metadata": {
        "id": "DLzQhJAhf29V",
        "outputId": "041ae603-295f-4798-afd9-8dd38921857a",
        "colab": {
          "base_uri": "https://localhost:8080/"
        }
      },
      "outputs": [
        {
          "output_type": "execute_result",
          "data": {
            "text/plain": [
              "0.971268706795431"
            ]
          },
          "metadata": {},
          "execution_count": 7
        }
      ],
      "source": [
        "r_sq"
      ]
    },
    {
      "cell_type": "code",
      "execution_count": 8,
      "metadata": {
        "id": "C2MyOsKnf29W",
        "outputId": "42f7b6ca-ef7f-4193-e56f-e57ab209a3ac",
        "colab": {
          "base_uri": "https://localhost:8080/"
        }
      },
      "outputs": [
        {
          "output_type": "stream",
          "name": "stdout",
          "text": [
            "intercept: 421.45454545454544\n"
          ]
        }
      ],
      "source": [
        "print('intercept:', model.intercept_)\n"
      ]
    },
    {
      "cell_type": "code",
      "execution_count": 9,
      "metadata": {
        "id": "WeGHWi_qf29W",
        "outputId": "8b22602f-b031-421f-9b63-dd367a279846",
        "colab": {
          "base_uri": "https://localhost:8080/"
        }
      },
      "outputs": [
        {
          "output_type": "stream",
          "name": "stdout",
          "text": [
            "slope: [-13.32442068]\n"
          ]
        }
      ],
      "source": [
        "print('slope:', model.coef_)"
      ]
    },
    {
      "cell_type": "code",
      "execution_count": 10,
      "metadata": {
        "id": "C9RyttTcf29W",
        "outputId": "56607f20-5c92-4799-82cd-3ef5ef8d1c5e",
        "colab": {
          "base_uri": "https://localhost:8080/",
          "height": 642
        }
      },
      "outputs": [
        {
          "output_type": "display_data",
          "data": {
            "text/plain": [
              "<Figure size 1080x720 with 1 Axes>"
            ],
            "image/png": "[encoded data removed]"
          },
          "metadata": {
            "needs_background": "light"
          }
        }
      ],
      "source": [
        "import matplotlib.pyplot as plt\n",
        "import numpy as np\n",
        "\n",
        "\n",
        "plt.figure(figsize=(15,10))\n",
        "plt.scatter(x, y, s=9)\n",
        "\n",
        "x = np.linspace(0,21,3)\n",
        "y = model.coef_*x+model.intercept_\n",
        "plt.plot(x, y, '-r', label='Preisnäherung')\n",
        "plt.title('Handy-Preise')\n",
        "plt.xlabel('x', color='#1C2833')\n",
        "plt.ylabel('y', color='#1C2833')\n",
        "plt.legend(loc='upper left')\n",
        "\n",
        "plt.grid()\n",
        "plt.show()"
      ]
    },
    {
      "cell_type": "code",
      "execution_count": 17,
      "metadata": {
        "id": "H0RbGCOGf29X",
        "outputId": "1e2e2341-0a75-4533-9896-5d60e56e549c",
        "colab": {
          "base_uri": "https://localhost:8080/"
        }
      },
      "outputs": [
        {
          "output_type": "execute_result",
          "data": {
            "text/plain": [
              "array([261.56149733])"
            ]
          },
          "metadata": {},
          "execution_count": 17
        }
      ],
      "source": [
        "#preis = model.coef_*12+model.intercept_\n",
        "#preis\n",
        "\n",
        "price = model.predict([[12]])\n",
        "price\n",
        "#price.item()"
      ]
    },
    {
      "cell_type": "code",
      "execution_count": null,
      "metadata": {
        "id": "A0dUtWw2f29X"
      },
      "outputs": [],
      "source": [
        ""
      ]
    }
  ],
  "metadata": {
    "kernelspec": {
      "display_name": "Python 3",
      "language": "python",
      "name": "python3"
    },
    "language_info": {
      "codemirror_mode": {
        "name": "ipython",
        "version": 3
      },
      "file_extension": ".py",
      "mimetype": "text/x-python",
      "name": "python",
      "nbconvert_exporter": "python",
      "pygments_lexer": "ipython3",
      "version": "3.8.5"
    },
    "colab": {
      "name": "regressionkiss.ipynb",
      "provenance": []
    }
  },
  "nbformat": 4,
  "nbformat_minor": 0
}