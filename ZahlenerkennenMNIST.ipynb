{
  "nbformat": 4,
  "nbformat_minor": 0,
  "metadata": {
    "colab": {
      "name": "ZahlenerkennenMNIST.ipynb",
      "provenance": [],
      "include_colab_link": true
    },
    "kernelspec": {
      "display_name": "Python 3",
      "language": "python",
      "name": "python3"
    },
    "accelerator": "GPU"
  },
  "cells": [
    {
      "cell_type": "markdown",
      "metadata": {
        "id": "view-in-github",
        "colab_type": "text"
      },
      "source": [
        "<a href=\"https://colab.research.google.com/github/Bogula/KISS/blob/main/ZahlenerkennenMNIST.ipynb\" target=\"_parent\"><img src=\"https://colab.research.google.com/assets/colab-badge.svg\" alt=\"Open In Colab\"/></a>"
      ]
    },
    {
      "cell_type": "markdown",
      "metadata": {
        "id": "ViGZ1Nf6qLZ9"
      },
      "source": [
        "# Zahlen erkennen\n",
        "\n",
        "\n",
        "> MNIST Datensatz und Neuronales Netz\n",
        "\n"
      ]
    },
    {
      "cell_type": "code",
      "metadata": {
        "id": "m8qHvgzzZ8oT"
      },
      "source": [
        "!pip3 install keras-visualizer"
      ],
      "execution_count": null,
      "outputs": []
    },
    {
      "cell_type": "code",
      "metadata": {
        "id": "qI71Avb3YRGP"
      },
      "source": [
        "#Libraries laden\n",
        "import numpy as np\n",
        "from tensorflow import keras\n",
        "from tensorflow.keras import layers\n",
        "\n",
        "from tensorflow.keras.optimizers import Adam\n",
        "from keras.datasets import mnist\n",
        "from keras.layers import Dense\n",
        "from keras.models import Sequential\n",
        "\n",
        "\n",
        "from matplotlib import pyplot as plt\n",
        "import keras_visualizer"
      ],
      "execution_count": null,
      "outputs": []
    },
    {
      "cell_type": "code",
      "metadata": {
        "id": "LRYVKDbQqLaB"
      },
      "source": [
        "\n",
        "\n",
        "# Importieren der Daten \n",
        "\n",
        "(x_train, y_train), (x_test, y_test) = mnist.load_data()\n",
        "\n",
        "\n",
        "#Kopieren der Originaldaten\n",
        "x_train_drawing = x_train\n",
        "x_test_drawing = x_test\n",
        "\n",
        "#Umformen in 784 Punkte\n",
        "\n",
        "image_size = 784 # 28 x 28\n",
        "x_train = x_train.reshape(x_train.shape[0], image_size) \n",
        "x_test = x_test.reshape(x_test.shape[0], image_size)\n",
        "\n",
        "# Klassen \n",
        "num_classes = 10\n",
        "y_train = keras.utils.to_categorical(y_train, num_classes)\n",
        "y_test = keras.utils.to_categorical(y_test, num_classes)\n",
        "\n"
      ],
      "execution_count": null,
      "outputs": []
    },
    {
      "cell_type": "markdown",
      "metadata": {
        "id": "g6rqmYKZHInx"
      },
      "source": [
        "## Mal angucken?\n",
        "\n",
        "Die ersten 32 Zahlen\n",
        "\n",
        "\n",
        "\n"
      ]
    },
    {
      "cell_type": "code",
      "metadata": {
        "id": "XaR6ncOmHNNw"
      },
      "source": [
        "for i in range(32):\n",
        "    ax = plt.subplot(8, 8, i+1)\n",
        "    ax.axis('off')\n",
        "    plt.imshow(x_train_drawing[i], cmap='Greys')"
      ],
      "execution_count": null,
      "outputs": []
    },
    {
      "cell_type": "markdown",
      "metadata": {
        "id": "UkCoJlsjqLaM"
      },
      "source": [
        "*kursiver Text*## Unser Mininetzwerk\n",
        "\n",
        "Simple \n",
        "Input -> HiddenLayer(32) -> Ausgangslayer(10)\n"
      ]
    },
    {
      "cell_type": "code",
      "metadata": {
        "id": "sAYmbJ2kqLaN"
      },
      "source": [
        "model = Sequential()\n",
        "\n",
        "# Input layer mit mit dem input_shape parameter angepasst werden\n",
        "# the shape of our training data.\n",
        "model.add(Dense(units=32, activation='sigmoid', input_shape=(image_size,)))\n",
        "model.add(Dense(units=num_classes, activation='softmax'))\n",
        "model.summary()"
      ],
      "execution_count": null,
      "outputs": []
    },
    {
      "cell_type": "markdown",
      "metadata": {
        "id": "VMyz-HcLqLaW"
      },
      "source": [
        "## Train Network\n",
        "\n",
        "Netzwerk Trainieren"
      ]
    },
    {
      "cell_type": "code",
      "metadata": {
        "id": "wFOmtHHAqLaZ"
      },
      "source": [
        "model.compile(optimizer=\"sgd\", loss='categorical_crossentropy', metrics=['accuracy'])\n",
        "model.fit(x_train, y_train, batch_size=128, epochs=8, verbose=False, validation_split=.1)\n",
        "loss, accuracy  = model.evaluate(x_test, y_test, verbose=False)\n",
        "\n",
        "print(f'Test loss: {loss:.3}')\n",
        "print(f'Test accuracy: {accuracy:.3}')"
      ],
      "execution_count": null,
      "outputs": []
    },
    {
      "cell_type": "code",
      "metadata": {
        "id": "lYwriknvaWmk"
      },
      "source": [
        "from keras_visualizer import visualizer\n",
        "visualizer(model, format='png',view=True)"
      ],
      "execution_count": null,
      "outputs": []
    },
    {
      "cell_type": "code",
      "metadata": {
        "id": "mMpCOCH4dAjf"
      },
      "source": [
        "from IPython.display import Image\n",
        "Image('graph.png')"
      ],
      "execution_count": null,
      "outputs": []
    },
    {
      "cell_type": "code",
      "metadata": {
        "id": "RnZj5z4WXgmD"
      },
      "source": [
        "ex = 177\n",
        "\n",
        "\n",
        "plt.imshow(x_test_drawing[ex], cmap='Greys')\n",
        "\n",
        "a= model.predict([x_test[ex:ex+1]])\n",
        "a.argmax()"
      ],
      "execution_count": null,
      "outputs": []
    }
  ]
}