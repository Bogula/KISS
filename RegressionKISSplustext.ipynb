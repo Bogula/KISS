{
  "nbformat": 4,
  "nbformat_minor": 0,
  "metadata": {
    "kernelspec": {
      "display_name": "Python 3",
      "language": "python",
      "name": "python3"
    },
    "language_info": {
      "codemirror_mode": {
        "name": "ipython",
        "version": 3
      },
      "file_extension": ".py",
      "mimetype": "text/x-python",
      "name": "python",
      "nbconvert_exporter": "python",
      "pygments_lexer": "ipython3",
      "version": "3.8.5"
    },
    "colab": {
      "name": "RegressionKISSplustext.ipynb",
      "provenance": [],
      "collapsed_sections": [],
      "include_colab_link": true
    }
  },
  "cells": [
    {
      "cell_type": "markdown",
      "metadata": {
        "id": "view-in-github",
        "colab_type": "text"
      },
      "source": [
        "<a href=\"https://colab.research.google.com/github/Bogula/KISS/blob/main/RegressionKISSplustext.ipynb\" target=\"_parent\"><img src=\"https://colab.research.google.com/assets/colab-badge.svg\" alt=\"Open In Colab\"/></a>"
      ]
    },
    {
      "cell_type": "markdown",
      "metadata": {
        "id": "bFro0XtO-tWt"
      },
      "source": [
        "#Lineare Regression\n"
      ]
    },
    {
      "cell_type": "markdown",
      "metadata": {
        "id": "9ChFncE0o_TR"
      },
      "source": [
        "Dieses Notebook ist die Umsetzung der Lektion 6 aus dem OER KISS*\n",
        "\n",
        "https://blogs.hoou.de/oerkiss/courses/kiss/1130/"
      ]
    },
    {
      "cell_type": "code",
      "metadata": {
        "id": "xmb6JLev-tWu"
      },
      "source": [
        "#Import der benötigten Module\n",
        "\n",
        "import numpy as np\n",
        "from sklearn.linear_model import LinearRegression"
      ],
      "execution_count": 1,
      "outputs": []
    },
    {
      "cell_type": "code",
      "metadata": {
        "id": "5AHDd4pL-tWv"
      },
      "source": [
        "#Eingabe der X Werte und Y Werte\n",
        "\n",
        "x = np.array([3,6,9,15,18,21,3,9,18])\n",
        "\n",
        "y = np.array([400,350,310,200,175,150,370,280,199])"
      ],
      "execution_count": 2,
      "outputs": []
    },
    {
      "cell_type": "code",
      "metadata": {
        "id": "v2FHwPidfULF"
      },
      "source": [
        "#Die Eingabe in unser ML Modell muss immer aus einem ARRAY von Zahlen in eckigen Klammern sein\n",
        "#also so aussehen: [ [1][5][3] ]. \n",
        "\n",
        "#Um aus einem einfachen ARRAY ein ARRAY von ARRAYS zu machen nutzen wir den Befehl:\n",
        "x2 = x.reshape((-1, 1))"
      ],
      "execution_count": 3,
      "outputs": []
    },
    {
      "cell_type": "code",
      "metadata": {
        "id": "PkyqdIiZAVHN",
        "colab": {
          "base_uri": "https://localhost:8080/"
        },
        "outputId": "606aa64e-f9d1-4213-eb81-ae7850b2d24c"
      },
      "source": [
        "#Nun haben wir genau das Format, das wir brauchen \n",
        "x2"
      ],
      "execution_count": 5,
      "outputs": [
        {
          "output_type": "execute_result",
          "data": {
            "text/plain": [
              "array([[ 3],\n",
              "       [ 6],\n",
              "       [ 9],\n",
              "       [15],\n",
              "       [18],\n",
              "       [21],\n",
              "       [ 3],\n",
              "       [ 9],\n",
              "       [18]])"
            ]
          },
          "metadata": {},
          "execution_count": 5
        }
      ]
    },
    {
      "cell_type": "code",
      "metadata": {
        "id": "bbsiw-jU-tWw"
      },
      "source": [
        "#Wir erzeugen unser Modell\n",
        "model = LinearRegression()"
      ],
      "execution_count": 6,
      "outputs": []
    },
    {
      "cell_type": "code",
      "metadata": {
        "id": "TFkaSi9P-tWw",
        "colab": {
          "base_uri": "https://localhost:8080/"
        },
        "outputId": "b6bb3d7b-34f0-4195-999d-75002146f3d9"
      },
      "source": [
        "#Wir trainieren unser Modell mit den Trainingsdaten: \n",
        "model.fit(x2, y)"
      ],
      "execution_count": 7,
      "outputs": [
        {
          "output_type": "execute_result",
          "data": {
            "text/plain": [
              "LinearRegression(copy_X=True, fit_intercept=True, n_jobs=None, normalize=False)"
            ]
          },
          "metadata": {},
          "execution_count": 7
        }
      ]
    },
    {
      "cell_type": "markdown",
      "metadata": {
        "id": "jUPcJZKZgW4g"
      },
      "source": [
        "Nach dem Training gibt das Modell uns mehrere Daten:\n",
        "\n",
        "model.intercept_   sagt, wo die Gerade die y Achse schneidet\n",
        "\n",
        "model.coef_. sagt wie die Steigung der Geraden ist\n",
        "\n",
        "Zur Erinnerung eine Gerade ist beschrieben als:\n",
        "\n",
        "y = a*x + b\n",
        "\n",
        "wobei a, die Steigung ist und b der Schnitt mit der y-Achse"
      ]
    },
    {
      "cell_type": "code",
      "metadata": {
        "id": "WphSJgwf-tWx",
        "colab": {
          "base_uri": "https://localhost:8080/"
        },
        "outputId": "c7fb1cda-ac43-4862-b7cc-2ebc84ddf79c"
      },
      "source": [
        "Schnittpunkty = model.intercept_\n",
        "print('Schnitt mit der y Achse:', Schnittpunkty)\n"
      ],
      "execution_count": 26,
      "outputs": [
        {
          "output_type": "stream",
          "name": "stdout",
          "text": [
            "Schnitt mit der y Achse: 421.45454545454544\n"
          ]
        }
      ]
    },
    {
      "cell_type": "code",
      "metadata": {
        "id": "-axInldX-tWy",
        "colab": {
          "base_uri": "https://localhost:8080/"
        },
        "outputId": "d37e9cdd-0ecd-4f17-f6f7-900b185e8827"
      },
      "source": [
        "#Achtet mal drauf, dass hier keine reine Zahl wieder gegeben wird, sondern ein Wert in eckigen Klammern\n",
        "print('Steigung:', model.coef_)"
      ],
      "execution_count": 27,
      "outputs": [
        {
          "output_type": "stream",
          "name": "stdout",
          "text": [
            "Steigung: [-13.32442068]\n"
          ]
        }
      ]
    },
    {
      "cell_type": "code",
      "metadata": {
        "colab": {
          "base_uri": "https://localhost:8080/"
        },
        "id": "I1NMmRLgicyB",
        "outputId": "f51c977f-e329-46d0-f4da-5c531f167c0b"
      },
      "source": [
        "#Um den Wert aus der Klammer rauszuholen gibt es die Funktion item()\n",
        "\n",
        "SteigungWert = model.coef_.item()\n",
        "print(SteigungWert)"
      ],
      "execution_count": 28,
      "outputs": [
        {
          "output_type": "stream",
          "name": "stdout",
          "text": [
            "-13.324420677361852\n"
          ]
        }
      ]
    },
    {
      "cell_type": "markdown",
      "metadata": {
        "id": "kFkD3ohPi7KC"
      },
      "source": [
        "So als nächstes machen wir die Graphik\n"
      ]
    },
    {
      "cell_type": "code",
      "metadata": {
        "id": "z5cPxL7p-tWz",
        "colab": {
          "base_uri": "https://localhost:8080/",
          "height": 613
        },
        "outputId": "977b2bbf-664a-423d-9666-d7df8554f6e5"
      },
      "source": [
        "#Wir laden das Grafikmodul\n",
        "import matplotlib.pyplot as plt\n",
        "\n",
        "#Wir sagen, wie groß die Grafik sein soll\n",
        "plt.figure(figsize=(15,10))\n",
        "\n",
        "#Wir malen alle x,y als Punkte mit der Größe 22pixel\n",
        "plt.scatter(x, y, s=22)\n",
        "\n",
        "#Wir machen ein schönes Gitter in den Hintergrund\n",
        "plt.grid()\n",
        "#Wir zeigen das ganze an\n",
        "plt.show()"
      ],
      "execution_count": 25,
      "outputs": [
        {
          "output_type": "display_data",
          "data": {
            "image/png": "[encoded data removed]",
            "text/plain": [
              "<Figure size 1080x720 with 1 Axes>"
            ]
          },
          "metadata": {
            "needs_background": "light"
          }
        }
      ]
    },
    {
      "cell_type": "markdown",
      "metadata": {
        "id": "zV8E-CABjWzo"
      },
      "source": [
        "Als nächstes wollen wir die Regressionsgrade malen\n",
        "\n",
        "Wir haben ja die Steigung und den Schnittpunkt mit der y Achse\n",
        "und wir wissen auch wie die Formel für einen Gerade ist:\n",
        "\n",
        "y = a * x + b\n",
        "\n",
        "a ist SteigungWert\n",
        "\n",
        "b ist Schnittpunkty\n",
        "\n"
      ]
    },
    {
      "cell_type": "code",
      "metadata": {
        "id": "-oRvZLPXCsOG",
        "colab": {
          "base_uri": "https://localhost:8080/",
          "height": 301
        },
        "outputId": "a43e39d8-21d9-4f51-9353-841850528fb8"
      },
      "source": [
        "#Wir machen eine Liste von 10 x-Werten zwischen 0 und 25\n",
        "xg = np.linspace(0,25,num=10)\n",
        "\n",
        "#Wir berechnen zu jedem x aus der Liste oben den dazugehörigen y Wert\n",
        "yg = SteigungWert* xg + Schnittpunkty\n",
        "\n",
        "#Wir malen die Gerade mit xg, yg der Farbe rot und dem Label \"Preisnäherung\"\n",
        "plt.plot(xg, yg, '-r', label='Preisnäherung')\n",
        "#Wir setzen das Label oben rechts in die Ecke\n",
        "plt.legend(loc='upper right')\n",
        "\n",
        "plt.title('Handy-Preise')\n",
        "\n",
        "plt.show()"
      ],
      "execution_count": 40,
      "outputs": [
        {
          "output_type": "display_data",
          "data": {
            "image/png": "[encoded data removed]",
            "text/plain": [
              "<Figure size 432x288 with 1 Axes>"
            ]
          },
          "metadata": {
            "needs_background": "light"
          }
        }
      ]
    },
    {
      "cell_type": "markdown",
      "metadata": {
        "id": "yg5gnKOamEE0"
      },
      "source": [
        "So jetzt wo wir gesehen haben wir man die Werte als Punkte auf die Grafik packt und wie die Gerade, fügen wir beides in einem Schaubild zusammen. Also nix neues sondern die letzten beiden Zellen in einer zusammen\n"
      ]
    },
    {
      "cell_type": "code",
      "metadata": {
        "colab": {
          "base_uri": "https://localhost:8080/",
          "height": 627
        },
        "id": "xE_QlAqgmTak",
        "outputId": "20c8079a-dd94-45ac-d5f1-71143c23a454"
      },
      "source": [
        "#Wir laden das Grafikmodul\n",
        "import matplotlib.pyplot as plt\n",
        "\n",
        "#Wir sagen, wie groß die Grafik sein soll\n",
        "plt.figure(figsize=(15,10))\n",
        "\n",
        "#Wir malen alle x,y als Punkte mit der Größe 22pixel\n",
        "plt.scatter(x, y, s=22)\n",
        "\n",
        "#Wir machen ein schönes Gitter in den Hintergrund\n",
        "plt.grid()\n",
        "\n",
        "#Wir machen eine Liste von 10 x-Werten zwischen 0 und 25 \n",
        "xg = np.linspace(0,25,num=10)\n",
        "\n",
        "#Wir berechnen zu jedem x aus der Liste oben den dazugehörigen y Wert\n",
        "yg = SteigungWert* xg + Schnittpunkty\n",
        "\n",
        "#Wir malen die Gerade mit xg, yg der Farbe rot und dem Label \"Preisnäherung\"\n",
        "plt.plot(xg, yg, '-r', label='Preisnäherung')\n",
        "#Wir setzen das Label oben rechts in die Ecke\n",
        "plt.legend(loc='upper right')\n",
        "\n",
        "plt.title('Handy-Preise')\n",
        "\n",
        "#Wir zeigen das ganze an\n",
        "plt.show()"
      ],
      "execution_count": 41,
      "outputs": [
        {
          "output_type": "display_data",
          "data": {
            "image/png": "[encoded data removed]",
            "text/plain": [
              "<Figure size 1080x720 with 1 Axes>"
            ]
          },
          "metadata": {
            "needs_background": "light"
          }
        }
      ]
    },
    {
      "cell_type": "code",
      "metadata": {
        "id": "DyXaT05w-tWz",
        "colab": {
          "base_uri": "https://localhost:8080/"
        },
        "outputId": "42a42363-6a9f-4397-d75e-ff37a28c1e9e"
      },
      "source": [
        "#Wenn wir den Preis zu einem bestimmten Alter haben wollen\n",
        "#berechen wir das so, dass wir das Alter als x eingeben und den Preis dann als y erhalten\n",
        "#für das Alter 12 Monate erhalten wir dann\n",
        "\n",
        "preis = SteigungWert * 12 + Schnittpunkty\n",
        "preis"
      ],
      "execution_count": 42,
      "outputs": [
        {
          "output_type": "execute_result",
          "data": {
            "text/plain": [
              "261.5614973262032"
            ]
          },
          "metadata": {},
          "execution_count": 42
        }
      ]
    },
    {
      "cell_type": "code",
      "metadata": {
        "colab": {
          "base_uri": "https://localhost:8080/"
        },
        "id": "hXqQtoLrnHLj",
        "outputId": "5ef8373a-b2b1-4658-d5a5-ad9561016f27"
      },
      "source": [
        "#Wir runden das Ergebnis auf 2 Nachkommastellen\n",
        "gerundet = round(preis,2)\n",
        "print('Der Preis ist ', gerundet, ' Euro.')"
      ],
      "execution_count": 46,
      "outputs": [
        {
          "output_type": "stream",
          "name": "stdout",
          "text": [
            "Der Preis ist  261.56  Euro.\n"
          ]
        }
      ]
    },
    {
      "cell_type": "code",
      "metadata": {
        "id": "FJVSQCQanbsZ"
      },
      "source": [
        "#Bonuswissen\n",
        "#Um zu einem bestimmten Eingabewert den vom Modell berechneten Wert zu kriegen\n",
        "#gibt es die Funktion predict()\n",
        "#immer dran denken, das model will die x Werte immer in doppelten eckigen Klammen\n",
        "#als nicht model.predict(12), sondern model.predict([[12]])"
      ],
      "execution_count": 49,
      "outputs": []
    },
    {
      "cell_type": "code",
      "metadata": {
        "id": "NiuYo7i7-tW0",
        "colab": {
          "base_uri": "https://localhost:8080/"
        },
        "outputId": "a290f1f5-4a55-43e0-dc1c-ea23c6bce5b2"
      },
      "source": [
        "model.predict([[12]])"
      ],
      "execution_count": 50,
      "outputs": [
        {
          "output_type": "execute_result",
          "data": {
            "text/plain": [
              "array([261.56149733])"
            ]
          },
          "metadata": {},
          "execution_count": 50
        }
      ]
    },
    {
      "cell_type": "code",
      "metadata": {
        "colab": {
          "base_uri": "https://localhost:8080/"
        },
        "id": "8N_yf6qWoBqY",
        "outputId": "6434f01b-7894-4c4c-9a18-253079b638a6"
      },
      "source": [
        "#Auch das Ergebnis des Models ist wieder ein ARRAY mit eckigen Klammern\n",
        "#wir haben die Funkiont item() um die reine Zahl aus dem Array rauszuholen\n",
        "\n",
        "arrayzahl = model.predict([[12]])\n",
        "arrayzahl.item()\n",
        "\n"
      ],
      "execution_count": 55,
      "outputs": [
        {
          "output_type": "execute_result",
          "data": {
            "text/plain": [
              "261.5614973262032"
            ]
          },
          "metadata": {},
          "execution_count": 55
        }
      ]
    }
  ]
}