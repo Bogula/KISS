{
  "nbformat": 4,
  "nbformat_minor": 0,
  "metadata": {
    "kernelspec": {
      "display_name": "Python 3",
      "language": "python",
      "name": "python3"
    },
    "language_info": {
      "codemirror_mode": {
        "name": "ipython",
        "version": 3
      },
      "file_extension": ".py",
      "mimetype": "text/x-python",
      "name": "python",
      "nbconvert_exporter": "python",
      "pygments_lexer": "ipython3",
      "version": "3.8.5"
    },
    "colab": {
      "name": "LogistischeRegression.ipynb",
      "provenance": [],
      "include_colab_link": true
    }
  },
  "cells": [
    {
      "cell_type": "markdown",
      "metadata": {
        "id": "view-in-github",
        "colab_type": "text"
      },
      "source": [
        "<a href=\"https://colab.research.google.com/github/Bogula/KISS/blob/main/LogistischeRegression.ipynb\" target=\"_parent\"><img src=\"https://colab.research.google.com/assets/colab-badge.svg\" alt=\"Open In Colab\"/></a>"
      ]
    },
    {
      "cell_type": "code",
      "metadata": {
        "id": "foNN6s7CtttW"
      },
      "source": [
        "#Laden der Module\n",
        "import pandas as pd\n",
        "import numpy as np\n",
        "\n",
        "from sklearn.linear_model import LogisticRegression\n",
        "\n",
        "\n"
      ],
      "execution_count": null,
      "outputs": []
    },
    {
      "cell_type": "code",
      "metadata": {
        "id": "Nn5SOSSetttZ"
      },
      "source": [
        "df = pd.read_csv(\"https://raw.githubusercontent.com/Bogula/KISS/main/pruefung.csv\", delimiter=\",\")\n",
        "df.head(10)"
      ],
      "execution_count": null,
      "outputs": []
    },
    {
      "cell_type": "code",
      "metadata": {
        "id": "6sJ-Ps3Bttta"
      },
      "source": [
        "x = df.drop([\"Bestanden\"],axis = 1)\n",
        "y = df.Bestanden"
      ],
      "execution_count": null,
      "outputs": []
    },
    {
      "cell_type": "code",
      "metadata": {
        "id": "dxffOtes4qo0"
      },
      "source": [
        "print(x)"
      ],
      "execution_count": null,
      "outputs": []
    },
    {
      "cell_type": "code",
      "metadata": {
        "id": "85wAW5dDtttb"
      },
      "source": [
        "model = LogisticRegression()"
      ],
      "execution_count": null,
      "outputs": []
    },
    {
      "cell_type": "code",
      "metadata": {
        "id": "v7XTBXw9tttc"
      },
      "source": [
        "model.fit(x, y)"
      ],
      "execution_count": null,
      "outputs": []
    },
    {
      "cell_type": "code",
      "metadata": {
        "id": "RascAAT9zs4q"
      },
      "source": [
        "# Das hier ist nur um Fehlermeldungen für das nächtste Feld abzuschalten\n",
        "# import warnings filter\n",
        "from warnings import simplefilter\n",
        "# ignore all future warnings\n",
        "simplefilter(action='ignore', category=FutureWarning)\n",
        "np.seterr(all='ignore')\n",
        " "
      ],
      "execution_count": null,
      "outputs": []
    },
    {
      "cell_type": "code",
      "metadata": {
        "id": "FRwLtzkftttf"
      },
      "source": [
        "import seaborn as sns\n",
        "\n",
        "sns.regplot(x='Lernstunden', y='Bestanden', data=df, logistic=True)"
      ],
      "execution_count": null,
      "outputs": []
    },
    {
      "cell_type": "code",
      "metadata": {
        "id": "DehohFOttttf"
      },
      "source": [
        "# Vorhersage, ob bestanden aus Anzahl der Lernstunden\n",
        "Lernstunden = 6.0\n",
        "HatBestanden =  model.predict([[Lernstunden]])\n",
        "HatBestanden.item() # Failed"
      ],
      "execution_count": null,
      "outputs": []
    }
  ]
}